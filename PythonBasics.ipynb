{
  "nbformat": 4,
  "nbformat_minor": 0,
  "metadata": {
    "colab": {
      "provenance": []
    },
    "kernelspec": {
      "name": "python3",
      "display_name": "Python 3"
    },
    "language_info": {
      "name": "python"
    }
  },
  "cells": [
    {
      "cell_type": "markdown",
      "source": [
        "#1-What is Python, and why is it popular?\n",
        "-Python is a high-level, interpreted programming language known for its simplicity and readability. It was created by Guido van Rossum and first released in 1991. Python is widely used in web development, data science, machine learning, automation, and more.\n",
        ". Web development: Frameworks like Django and Flask make it easy to build web applications using Python.\n",
        "2. Data analysis and science: Libraries like Pandas, NumPy, and Matplotlib make Python a popular choice for data analysis, machine learning, and scientific computing.\n",
        "3. Artificial intelligence and machine learning: Python is used in AI and ML applications, including natural language processing, computer vision, and more.\n",
        "4. Automation: Python is used to automate tasks, such as data entry, file management, and system administration.\n",
        "5. Education: Python is a popular teaching language due to its simplicity and ease of use.\n",
        "\n"
      ],
      "metadata": {
        "id": "q6Z_uQjnb7vt"
      }
    },
    {
      "cell_type": "markdown",
      "source": [
        "#2-What is an interpreter in Python?\n",
        "-In Python, an interpreter is a program that directly executes the Python code without compiling it into machine code first.\n",
        "Reading the Code: The interpreter reads the Python code from a file or input.\n",
        "2. Lexical Analysis: The interpreter breaks the code into tokens, such as keywords, identifiers, and symbols.\n",
        "3. Syntax Analysis: The interpreter parses the tokens into a syntax tree, checking for syntax errors.\n",
        "4. Semantic Analysis: The interpreter analyzes the syntax tree to check for semantic errors, such as type errors.\n",
        "5. Execution: The interpreter executes the code by evaluating the syntax tree.\n",
        "\n"
      ],
      "metadata": {
        "id": "CogL8dcActpo"
      }
    },
    {
      "cell_type": "markdown",
      "source": [
        "#3-What are pre-defined keywords in Python?\n",
        "In Python, pre-defined keywords are reserved words that have special meanings and are used to define the structure and syntax of the language.\n",
        "Here are some pre-defined keywords in Python:\n",
        "1. False - Boolean false value\n",
        "2. None - Null or void value\n",
        "3. True - Boolean true value\n",
        "4. and - Logical and operator\n",
        "5. as - Used for aliasing\n",
        "6. assert - Used for debugging\n",
        "7. async - Used for asynchronous functions\n",
        "8. await - Used for asynchronous functions\n",
        "9. break - Used to exit loops\n",
        "10. class - Used to define classes\n"
      ],
      "metadata": {
        "id": "WXkmVP8yykyo"
      }
    },
    {
      "cell_type": "markdown",
      "source": [
        "#4-Can keywords be used as variable names?\n",
        "-No, keywords in Python cannot be used as variable names.\n",
        "Keywords are reserved words in Python that have special meanings and are used to define the structure and syntax of the language. Using a keyword as a variable name would:\n",
        "\n",
        "1. Cause syntax errors: Using a keyword as a variable name would lead to syntax errors, as the interpreter would be unable to distinguish between the keyword and the variable.\n",
        "2. Override keyword functionality: Using a keyword as a variable name would override the keyword's functionality, potentially leading to unexpected behavior or errors.\n",
        "\n"
      ],
      "metadata": {
        "id": "x7_VtNcztATo"
      }
    },
    {
      "cell_type": "markdown",
      "source": [
        "#5-What is mutability in Python?\n",
        "In Python, mutability refers to the ability of an object to change its state or value after it has been created.\n",
        "Mutable objects are those that can be modified after they are created. Examples of mutable objects in Python include:\n",
        "\n",
        "1. Lists: Lists are mutable, meaning you can add, remove, or modify elements after the list is created.\n",
        "2. Dictionaries: Dictionaries are mutable, allowing you to add, remove, or modify key-value pairs after the dictionary is created.\n",
        "3. Sets: Sets are mutable, enabling you to add or remove elements after the set is created.\n",
        " Immutable objects, on the other hand, cannot be changed after they are created\n",
        "\n"
      ],
      "metadata": {
        "id": "3DlESuCstvJM"
      }
    },
    {
      "cell_type": "markdown",
      "source": [
        "#6-Why are lists mutable, but tuples are immutable?\n",
        "In Python, lists are mutable while tuples are immutable due to their underlying implementation and design goals.\n",
        "\n",
        "Lists (Mutable)\n",
        "1. Dynamic Array: Lists are implemented as dynamic arrays, which can grow or shrink as elements are added or removed.\n",
        "2. Memory Allocation: Lists allocate memory dynamically, allowing them to adapt to changing sizes.\n",
        "3. Efficient Insertion/Deletion: Lists provide efficient insertion and deletion operations by shifting elements and adjusting the array size.\n",
        "\n",
        "Tuples (Immutable)\n",
        "1. Fixed-Size Array: Tuples are implemented as fixed-size arrays, which cannot be resized after creation.\n",
        "2. Memory Efficiency: Tuples are more memory-efficient than lists because they don't require dynamic memory allocation.\n",
        "3. Hashability: Tuples are hashable, meaning they can be used as dictionary keys, whereas lists are not.\n"
      ],
      "metadata": {
        "id": "2soJCFDcuwiV"
      }
    },
    {
      "cell_type": "markdown",
      "source": [
        "#7-What is the difference between “==” and “is” operators in Python?\n",
        "In Python, the \"==\" and \"is\" operators are used for comparison, but they serve different purposes and have distinct behaviors.\n",
        "\n",
        "\"==\" Operator (Equality)\n",
        "1. Checks for equality: The \"==\" operator checks whether the values of two objects are equal.\n",
        "2. Compares values: It compares the actual values of the objects, not their identities.\n",
        "3. Works with various data types: The \"==\" operator can be used with different data types, such as numbers, strings, lists, and more.\n",
        "\n",
        "\"is\" Operator (Identity)\n",
        "1. Checks for identity: The \"is\" operator checks whether both variables refer to the same object in memory.\n",
        "2. Compares identities: It compares the memory addresses of the objects, not their values.\n",
        "3. Works with objects: The \"is\" operator is primarily used with objects, as it checks for object identity.\n",
        "\n",
        "Key Differences\n",
        "1. Equality vs. Identity: The \"==\" operator checks for equality, while the \"is\" operator checks for identity.\n",
        "2. Value Comparison: The \"==\" operator compares values, whereas the \"is\" operator compares memory addresses.\n",
        "3. Usage: Use \"==\" for comparing values and \"is\" for checking object identity\n"
      ],
      "metadata": {
        "id": "g7kifPFRv6c6"
      }
    },
    {
      "cell_type": "markdown",
      "source": [
        "#8-What are logical operators in Python?\n",
        "In Python, logical operators are used to combine conditional statements and make decisions based on multiple conditions. The three main logical operators in Python are:\n",
        "\n",
        "1. and: Returns True if both conditions are true.\n",
        "2. or: Returns True if at least one condition is true.\n",
        "3. not: Returns True if the condition is false.\n",
        "\n"
      ],
      "metadata": {
        "id": "kxxbOMedxJIY"
      }
    },
    {
      "cell_type": "markdown",
      "source": [
        "#9-What is type casting in Python?\n",
        "In Python, type casting is the process of converting a value from one data type to another. This is also known as type conversion.\n",
        "\n",
        "Types of Type Casting\n",
        "1. Implicit Type Casting: Python automatically performs implicit type casting in certain situations, such as when you perform arithmetic operations on different data types.\n",
        "2. Explicit Type Casting: You can use built-in functions to explicitly convert a value from one data type to another.\n"
      ],
      "metadata": {
        "id": "hYcaG8OZyhzV"
      }
    },
    {
      "cell_type": "markdown",
      "source": [
        "#10-What is the difference between implicit and explicit type casting?\n",
        "In programming, type casting is the process of converting a value from one data type to another. There are two types of type casting: implicit and explicit.\n",
        "\n",
        "Implicit Type Casting\n",
        "1. Automatic conversion: Implicit type casting occurs automatically when the compiler or interpreter converts a value from one data type to another without explicit instructions.\n",
        "2. Context-dependent: Implicit type casting depends on the context in which the value is being used.\n",
        "3. Examples: Implicit type casting occurs when you perform arithmetic operations on different data types, such as adding an integer and a floating-point number.\n",
        "\n",
        "Explicit Type Casting\n",
        "1. Manual conversion: Explicit type casting requires manual conversion using casting functions or operators.\n",
        "2. Programmer-controlled: Explicit type casting is controlled by the programmer, who must specify the desired data type.\n",
        "3. Examples: Explicit type casting occurs when you use casting functions like int(), float(), or str() to convert a value from one data type to another.\n"
      ],
      "metadata": {
        "id": "Zaa7gz6Wy9Sl"
      }
    },
    {
      "cell_type": "markdown",
      "source": [
        "#11-What is the purpose of conditional statements in Python?\n",
        "In Python, conditional statements are used to control the flow of a program based on conditions or decisions. They allow you to execute different blocks of code depending on specific conditions.\n",
        "\n",
        "Tpes of Conditional Statements\n",
        "1. If Statement: Used to execute a block of code if a condition is true.\n",
        "2. If-Else Statement: Used to execute one block of code if a condition is true and another block if it's false.\n",
        "3. If-Elif-Else Statement: Used to check multiple conditions and execute different blocks of code accordingly.\n",
        "4. Nested If Statements: Used to check conditions within conditions.\n"
      ],
      "metadata": {
        "id": "ckyKOEqczsIb"
      }
    },
    {
      "cell_type": "markdown",
      "source": [
        "#12-How does the elif statement work?\n",
        "-In Python, the elif statement is a combination of else and if statements. It's used to check multiple conditions in a sequence and execute different blocks of code accordingly.\n",
        "\n",
        "1. Sequential Checking: The elif statement checks conditions in sequence. It starts with the initial if condition and moves to the first elif condition if the initial condition is false.\n",
        "2. Short-Circuit Evaluation: As soon as an elif condition is true, the corresponding code block is executed, and the remaining elif conditions are skipped.\n",
        "3. Optional Else Clause: The final else clause is optional. If all elif conditions are false and there's no else clause, the program simply continues executing the next statement.\n",
        "\n",
        "\n"
      ],
      "metadata": {
        "id": "WombAQWsdg3X"
      }
    },
    {
      "cell_type": "markdown",
      "source": [
        "#13-What is the difference between for and while loops?\n",
        "-In Python, for and while are two types of loops used to repeat a block of code. The main difference between them lies in their syntax, usage, and control flow.\n",
        "\n",
        "For Loop\n",
        "1. Iterates over a sequence: A for loop iterates over a sequence (such as a list, tuple, or string) and executes the loop body for each item.\n",
        "2. Automatic iteration: The loop automatically moves to the next item in the sequence after each iteration.\n",
        "3. No explicit loop counter: You don't need to manage a loop counter variable.\n",
        "\n",
        "While Loop\n",
        "1. Loops while a condition is true: A while loop continues to execute the loop body as long as a specified condition is true.\n",
        "2. Manual iteration: You need to manually update the loop counter or condition variable to control the loop.\n",
        "3. Explicit loop counter: You typically need to manage a loop counter variable.\n",
        "\n",
        "\n",
        "\n"
      ],
      "metadata": {
        "id": "WopVQ9LkiYUL"
      }
    },
    {
      "cell_type": "markdown",
      "source": [
        "#14-Describe a scenario where a while loop is more suitable than a for loop?\n",
        "Suppose you want to simulate a bank account balance that earns interest until it reaches a certain threshold. You don't know in advance how many iterations it will take for the balance to reach the threshold.\n",
        "\n",
        "1. Unknown number of iterations: Since you don't know how many iterations it will take for the balance to reach the threshold, a while loop is more suitable.\n",
        "2. Condition-based looping: A while loop allows you to continue iterating as long as a certain condition is true (in this case, the balance is below the threshold).\n",
        "3. Dynamic loop control: You can update the balance and threshold values within the loop, allowing for dynamic control over the looping process.\n",
        "\n"
      ],
      "metadata": {
        "id": "vFNPlEOsjiHH"
      }
    },
    {
      "cell_type": "markdown",
      "source": [
        "##Practical Questions"
      ],
      "metadata": {
        "id": "WlI7Yietn9n7"
      }
    },
    {
      "cell_type": "markdown",
      "source": [
        "#1-Write a Python program to print \"Hello, World!\"\n"
      ],
      "metadata": {
        "id": "xkMV4UyxuoP8"
      }
    },
    {
      "cell_type": "code",
      "source": [
        "print(\"Hello, World!\")"
      ],
      "metadata": {
        "colab": {
          "base_uri": "https://localhost:8080/"
        },
        "id": "DnJByFwppw8e",
        "outputId": "a4e75649-e8bc-4a2b-af66-56712e3a9350"
      },
      "execution_count": 1,
      "outputs": [
        {
          "output_type": "stream",
          "name": "stdout",
          "text": [
            "Hello, World!\n"
          ]
        }
      ]
    },
    {
      "cell_type": "markdown",
      "source": [
        "#2-Write a Python program that displays your name and age?"
      ],
      "metadata": {
        "id": "yPRynRnQp8xd"
      }
    },
    {
      "cell_type": "code",
      "source": [
        "name = \"Manas\"\n",
        "age = 25\n",
        "print(\"My name is\", name)\n",
        "print(\"I am\", age, \"years old\")"
      ],
      "metadata": {
        "colab": {
          "base_uri": "https://localhost:8080/"
        },
        "id": "XfXcdUhsqLts",
        "outputId": "41f082fc-fae0-4f2b-a90e-90628c05ae97"
      },
      "execution_count": 3,
      "outputs": [
        {
          "output_type": "stream",
          "name": "stdout",
          "text": [
            "My name is Manas\n",
            "I am 25 years old\n"
          ]
        }
      ]
    },
    {
      "cell_type": "markdown",
      "source": [
        "#3-Write code to print all the pre-defined keywords in Python using the keyword library"
      ],
      "metadata": {
        "id": "KXE1NWK_q4jS"
      }
    },
    {
      "cell_type": "code",
      "source": [
        "import keyword\n",
        "print(keyword.kwlist)"
      ],
      "metadata": {
        "colab": {
          "base_uri": "https://localhost:8080/"
        },
        "id": "qurUjZTTrAoV",
        "outputId": "9a9dff54-5f64-4a8b-920f-f38794ec00af"
      },
      "execution_count": 4,
      "outputs": [
        {
          "output_type": "stream",
          "name": "stdout",
          "text": [
            "['False', 'None', 'True', 'and', 'as', 'assert', 'async', 'await', 'break', 'class', 'continue', 'def', 'del', 'elif', 'else', 'except', 'finally', 'for', 'from', 'global', 'if', 'import', 'in', 'is', 'lambda', 'nonlocal', 'not', 'or', 'pass', 'raise', 'return', 'try', 'while', 'with', 'yield']\n"
          ]
        }
      ]
    },
    {
      "cell_type": "markdown",
      "source": [
        "#4-Write a program that checks if a given word is a Python keyword.\n"
      ],
      "metadata": {
        "id": "a0qrQh5JrVVC"
      }
    },
    {
      "cell_type": "code",
      "source": [
        "word = input(\"Enter a word: \")\n",
        "print(keyword.iskeyword(word))"
      ],
      "metadata": {
        "colab": {
          "base_uri": "https://localhost:8080/"
        },
        "id": "bUEbZ9iD3uky",
        "outputId": "fa5e1ad7-f5aa-49cf-9380-4840d94ce323"
      },
      "execution_count": 5,
      "outputs": [
        {
          "output_type": "stream",
          "name": "stdout",
          "text": [
            "Enter a word: word\n",
            "False\n"
          ]
        }
      ]
    },
    {
      "cell_type": "markdown",
      "source": [
        "#5-Create a list and tuple in Python, and demonstrate how attempting to change an element works differently for each"
      ],
      "metadata": {
        "id": "wRHoq0xY39a0"
      }
    },
    {
      "cell_type": "code",
      "source": [
        "my_list = [1, 2, 3]\n",
        "my_list[0] = 10\n",
        "print(\"Modified List:\", my_list)"
      ],
      "metadata": {
        "colab": {
          "base_uri": "https://localhost:8080/"
        },
        "id": "D-VYt3SN4H86",
        "outputId": "ea3c5519-5ae7-4d5e-f2d1-dbb84160a574"
      },
      "execution_count": 6,
      "outputs": [
        {
          "output_type": "stream",
          "name": "stdout",
          "text": [
            "Modified List: [10, 2, 3]\n"
          ]
        }
      ]
    },
    {
      "cell_type": "code",
      "source": [
        "my_tuple = (1, 2, 3)\n",
        "my_tuple[0] = 10 #'tuple' object does not support item assignment"
      ],
      "metadata": {
        "colab": {
          "base_uri": "https://localhost:8080/",
          "height": 158
        },
        "id": "p2y2Pom845IK",
        "outputId": "6de9b753-5ee2-4d08-ef97-173af31a991c"
      },
      "execution_count": 8,
      "outputs": [
        {
          "output_type": "error",
          "ename": "TypeError",
          "evalue": "'tuple' object does not support item assignment",
          "traceback": [
            "\u001b[0;31m---------------------------------------------------------------------------\u001b[0m",
            "\u001b[0;31mTypeError\u001b[0m                                 Traceback (most recent call last)",
            "\u001b[0;32m<ipython-input-8-87692bd1b4cd>\u001b[0m in \u001b[0;36m<cell line: 0>\u001b[0;34m()\u001b[0m\n\u001b[1;32m      1\u001b[0m \u001b[0mmy_tuple\u001b[0m \u001b[0;34m=\u001b[0m \u001b[0;34m(\u001b[0m\u001b[0;36m1\u001b[0m\u001b[0;34m,\u001b[0m \u001b[0;36m2\u001b[0m\u001b[0;34m,\u001b[0m \u001b[0;36m3\u001b[0m\u001b[0;34m)\u001b[0m\u001b[0;34m\u001b[0m\u001b[0;34m\u001b[0m\u001b[0m\n\u001b[0;32m----> 2\u001b[0;31m \u001b[0mmy_tuple\u001b[0m\u001b[0;34m[\u001b[0m\u001b[0;36m0\u001b[0m\u001b[0;34m]\u001b[0m \u001b[0;34m=\u001b[0m \u001b[0;36m10\u001b[0m\u001b[0;34m\u001b[0m\u001b[0;34m\u001b[0m\u001b[0m\n\u001b[0m",
            "\u001b[0;31mTypeError\u001b[0m: 'tuple' object does not support item assignment"
          ]
        }
      ]
    },
    {
      "cell_type": "markdown",
      "source": [
        "#6-Write a function to demonstrate the behavior of mutable and immutable arguments"
      ],
      "metadata": {
        "id": "ZabFDoo058gK"
      }
    },
    {
      "cell_type": "code",
      "source": [
        "def modify(num, lst):\n",
        "num += 10\n",
        "lst.append(4)\n",
        "x = 5\n",
        "y = [1, 2, 3]\n",
        "modify(x, y)\n",
        "print(\"x:\", x)\n",
        "print(\"y:\", y)\n"
      ],
      "metadata": {
        "colab": {
          "base_uri": "https://localhost:8080/",
          "height": 106
        },
        "id": "6rspqJ6x-czY",
        "outputId": "0bc863ba-c095-4f33-99c1-f7c196d753da"
      },
      "execution_count": 20,
      "outputs": [
        {
          "output_type": "error",
          "ename": "IndentationError",
          "evalue": "expected an indented block after function definition on line 1 (<ipython-input-20-463d7c540857>, line 2)",
          "traceback": [
            "\u001b[0;36m  File \u001b[0;32m\"<ipython-input-20-463d7c540857>\"\u001b[0;36m, line \u001b[0;32m2\u001b[0m\n\u001b[0;31m    num += 10\u001b[0m\n\u001b[0m    ^\u001b[0m\n\u001b[0;31mIndentationError\u001b[0m\u001b[0;31m:\u001b[0m expected an indented block after function definition on line 1\n"
          ]
        }
      ]
    },
    {
      "cell_type": "markdown",
      "source": [
        "#8-Write a program to demonstrate the use of logical operators?"
      ],
      "metadata": {
        "id": "mKmcJwGkEKKv"
      }
    },
    {
      "cell_type": "code",
      "source": [
        "a = True\n",
        "b = False\n",
        "print(\"a and b:\", a and b)\n",
        "print(\"a or b:\", a or b)\n",
        "print(\"not a:\", not a)"
      ],
      "metadata": {
        "colab": {
          "base_uri": "https://localhost:8080/"
        },
        "id": "aA5f1ZdJESJH",
        "outputId": "e2ec3154-0b55-49db-de45-a6f8be8a5438"
      },
      "execution_count": 21,
      "outputs": [
        {
          "output_type": "stream",
          "name": "stdout",
          "text": [
            "a and b: False\n",
            "a or b: True\n",
            "not a: False\n"
          ]
        }
      ]
    },
    {
      "cell_type": "markdown",
      "source": [
        "#9-Write a Python program to convert user input from string to integer, float, and boolean types"
      ],
      "metadata": {
        "id": "GAn35GiWE0lS"
      }
    },
    {
      "cell_type": "code",
      "source": [
        "user_input = input(\"Enter a value: \")\n",
        "int_value = int(user_input)\n",
        "float_value = float(user_input)\n",
        "bool_value = bool(user_input)\n",
        "print(\"Integer:\", int_value)\n",
        "print(\"Float:\", float_value)\n",
        "print(\"Boolean:\", bool_value)"
      ],
      "metadata": {
        "colab": {
          "base_uri": "https://localhost:8080/"
        },
        "id": "CPy7Dq44E6Rp",
        "outputId": "d5fa607e-f54e-48fe-96ac-cfeec2424827"
      },
      "execution_count": 22,
      "outputs": [
        {
          "output_type": "stream",
          "name": "stdout",
          "text": [
            "Enter a value: 5\n",
            "Integer: 5\n",
            "Float: 5.0\n",
            "Boolean: True\n"
          ]
        }
      ]
    },
    {
      "cell_type": "markdown",
      "source": [
        "#10-Write code to demonstrate type casting with list elements.\n"
      ],
      "metadata": {
        "id": "_kAeXQdPFfpW"
      }
    },
    {
      "cell_type": "code",
      "source": [
        "str_list = [\"1\", \"2\", \"3\", \"4\", \"5\"]\n",
        "int_list = [int(i) for i in str_list]\n",
        "float_list = [float(i) for i in str_list]\n",
        "bool_list = [bool(i) for i in str_list]\n",
        "print(\"Original List:\", str_list)\n",
        "print(\"Integer List:\", int_list)\n",
        "print(\"Float List:\", float_list)\n",
        "print(\"Boolean List:\", bool_list)"
      ],
      "metadata": {
        "colab": {
          "base_uri": "https://localhost:8080/"
        },
        "id": "bty4jDTmGMjz",
        "outputId": "316fd431-376f-4b50-a88b-5bf466e101c6"
      },
      "execution_count": 23,
      "outputs": [
        {
          "output_type": "stream",
          "name": "stdout",
          "text": [
            "Original List: ['1', '2', '3', '4', '5']\n",
            "Integer List: [1, 2, 3, 4, 5]\n",
            "Float List: [1.0, 2.0, 3.0, 4.0, 5.0]\n",
            "Boolean List: [True, True, True, True, True]\n"
          ]
        }
      ]
    },
    {
      "cell_type": "markdown",
      "source": [
        "#11-Write a program that checks if a number is positive, negative, or zero"
      ],
      "metadata": {
        "id": "zlteo2DXGXBq"
      }
    },
    {
      "cell_type": "code",
      "source": [
        "num = float(input(\"Enter a number: \"))\n",
        "if num > 0:\n",
        "    print(\"The number is Positive.\")\n",
        "elif num < 0:\n",
        "    print(\"The number is Negative.\")\n",
        "else:\n",
        "    print(\"The number is Zero.\")"
      ],
      "metadata": {
        "colab": {
          "base_uri": "https://localhost:8080/"
        },
        "id": "1I_lEkUOGfR-",
        "outputId": "910c11cd-f213-468b-8adc-2fefc6c5480b"
      },
      "execution_count": 25,
      "outputs": [
        {
          "output_type": "stream",
          "name": "stdout",
          "text": [
            "Enter a number: 10\n",
            "The number is Positive.\n"
          ]
        }
      ]
    },
    {
      "cell_type": "code",
      "source": [
        "num = float(input(\"Enter a number: \"))\n",
        "if num > 0:\n",
        "    print(\"The number is Positive.\")\n",
        "elif num < 0:\n",
        "    print(\"The number is Negative.\")\n",
        "else:\n",
        "    print(\"The number is Zero.\")"
      ],
      "metadata": {
        "colab": {
          "base_uri": "https://localhost:8080/"
        },
        "id": "1x-8WUfeIJBA",
        "outputId": "ba177a35-1b89-4b46-db29-8fc99e937b16"
      },
      "execution_count": 26,
      "outputs": [
        {
          "output_type": "stream",
          "name": "stdout",
          "text": [
            "Enter a number: -5\n",
            "The number is Negative.\n"
          ]
        }
      ]
    },
    {
      "cell_type": "code",
      "source": [
        "num = float(input(\"Enter a number: \"))\n",
        "if num > 0:\n",
        "    print(\"The number is Positive.\")\n",
        "elif num < 0:\n",
        "    print(\"The number is Negative.\")\n",
        "else:\n",
        "    print(\"The number is Zero.\")"
      ],
      "metadata": {
        "colab": {
          "base_uri": "https://localhost:8080/"
        },
        "id": "WiCxK6aFI7o4",
        "outputId": "a3e566a6-2816-4ceb-e00d-b48d49c9b933"
      },
      "execution_count": 27,
      "outputs": [
        {
          "output_type": "stream",
          "name": "stdout",
          "text": [
            "Enter a number: 0\n",
            "The number is Zero.\n"
          ]
        }
      ]
    },
    {
      "cell_type": "markdown",
      "source": [
        "#12-Write a for loop to print numbers from 1 to 10"
      ],
      "metadata": {
        "id": "CvF3ycIMJDsy"
      }
    },
    {
      "cell_type": "code",
      "source": [
        "for i in range(1, 11):\n",
        "    print(i)"
      ],
      "metadata": {
        "colab": {
          "base_uri": "https://localhost:8080/"
        },
        "id": "hroHEoLZJJ_U",
        "outputId": "3635837d-1ff3-4324-a0ec-34408ce73fb9"
      },
      "execution_count": 28,
      "outputs": [
        {
          "output_type": "stream",
          "name": "stdout",
          "text": [
            "1\n",
            "2\n",
            "3\n",
            "4\n",
            "5\n",
            "6\n",
            "7\n",
            "8\n",
            "9\n",
            "10\n"
          ]
        }
      ]
    },
    {
      "cell_type": "markdown",
      "source": [
        "#13-Write a Python program to find the sum of all even numbers between 1 and 50"
      ],
      "metadata": {
        "id": "fEG_36YcMr2g"
      }
    },
    {
      "cell_type": "code",
      "source": [
        "total = 0\n",
        "for i in range(1, 51):\n",
        "    if i % 2 == 0:\n",
        "        total += i\n",
        "print(total)"
      ],
      "metadata": {
        "colab": {
          "base_uri": "https://localhost:8080/"
        },
        "id": "mluRh9yRN70v",
        "outputId": "004e0292-95b7-48cf-9a3f-7b9b2f58446e"
      },
      "execution_count": 31,
      "outputs": [
        {
          "output_type": "stream",
          "name": "stdout",
          "text": [
            "650\n"
          ]
        }
      ]
    },
    {
      "cell_type": "markdown",
      "source": [
        "#14-Write a program to reverse a string using a while loop"
      ],
      "metadata": {
        "id": "Rhe1px3kOlh5"
      }
    },
    {
      "cell_type": "code",
      "source": [
        "s = \"Hello, World!\"\n",
        "reversed_string = \"\"\n",
        "i = len(s) - 1\n",
        "while i >= 0:\n",
        "    reversed_string += s[i]\n",
        "    i -= 1\n",
        "print(\"Original string:\", s)\n",
        "print(\"Reversed string:\", reversed_string)"
      ],
      "metadata": {
        "colab": {
          "base_uri": "https://localhost:8080/"
        },
        "id": "j9fxF37HOojv",
        "outputId": "8c429b1c-8122-4640-e18e-f97b8a495ad8"
      },
      "execution_count": 1,
      "outputs": [
        {
          "output_type": "stream",
          "name": "stdout",
          "text": [
            "Original string: Hello, World!\n",
            "Reversed string: !dlroW ,olleH\n"
          ]
        }
      ]
    },
    {
      "cell_type": "markdown",
      "source": [
        "#15-Write a Python program to calculate the factorial of a number provided by the user using a while loop"
      ],
      "metadata": {
        "id": "WhqsoOEJp4TR"
      }
    },
    {
      "cell_type": "code",
      "source": [
        "n = int(input(\"Enter a number: \"))\n",
        "fact = 1\n",
        "\n",
        "while n > 0:\n",
        "    fact *= n\n",
        "    n -= 1\n",
        "    print(\"Factorial:\", fact)"
      ],
      "metadata": {
        "colab": {
          "base_uri": "https://localhost:8080/"
        },
        "id": "ByrZ26l2so78",
        "outputId": "300f133e-e659-4209-cfa1-8c18217273b4"
      },
      "execution_count": 3,
      "outputs": [
        {
          "output_type": "stream",
          "name": "stdout",
          "text": [
            "Enter a number: 1\n",
            "Factorial: 1\n"
          ]
        }
      ]
    }
  ]
}